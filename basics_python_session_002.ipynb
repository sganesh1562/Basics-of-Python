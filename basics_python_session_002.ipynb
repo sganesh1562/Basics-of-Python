{
  "nbformat": 4,
  "nbformat_minor": 0,
  "metadata": {
    "colab": {
      "name": "basics_python_session_002.ipynb",
      "provenance": []
    },
    "kernelspec": {
      "name": "python3",
      "display_name": "Python 3"
    },
    "language_info": {
      "name": "python"
    }
  },
  "cells": [
    {
      "cell_type": "markdown",
      "metadata": {
        "id": "5aOtOkclPVlf"
      },
      "source": [
        "Operations on Strings and Lists:\n",
        "\n",
        "1. Concatination\n",
        "\n",
        "2. Indexing\n",
        "\n",
        "3. Slicing"
      ]
    },
    {
      "cell_type": "code",
      "metadata": {
        "id": "UzR29CutPQsC"
      },
      "source": [
        "#indexing ---> Strings"
      ],
      "execution_count": 1,
      "outputs": []
    },
    {
      "cell_type": "code",
      "metadata": {
        "id": "EeWmLn5TPhDG"
      },
      "source": [
        "a='Indian Ocean'"
      ],
      "execution_count": 2,
      "outputs": []
    },
    {
      "cell_type": "code",
      "metadata": {
        "colab": {
          "base_uri": "https://localhost:8080/",
          "height": 35
        },
        "id": "i-1xyebOPkrc",
        "outputId": "1dd3b05a-1b71-4fa2-fdf8-a527d0873508"
      },
      "source": [
        "a[-3]"
      ],
      "execution_count": 3,
      "outputs": [
        {
          "output_type": "execute_result",
          "data": {
            "application/vnd.google.colaboratory.intrinsic+json": {
              "type": "string"
            },
            "text/plain": [
              "'e'"
            ]
          },
          "metadata": {
            "tags": []
          },
          "execution_count": 3
        }
      ]
    },
    {
      "cell_type": "code",
      "metadata": {
        "colab": {
          "base_uri": "https://localhost:8080/",
          "height": 35
        },
        "id": "mx8mefLjPlZJ",
        "outputId": "3f832341-b697-4e8a-cbd6-420248659788"
      },
      "source": [
        "a[6]"
      ],
      "execution_count": 4,
      "outputs": [
        {
          "output_type": "execute_result",
          "data": {
            "application/vnd.google.colaboratory.intrinsic+json": {
              "type": "string"
            },
            "text/plain": [
              "' '"
            ]
          },
          "metadata": {
            "tags": []
          },
          "execution_count": 4
        }
      ]
    },
    {
      "cell_type": "code",
      "metadata": {
        "colab": {
          "base_uri": "https://localhost:8080/",
          "height": 35
        },
        "id": "JTZjHgcXPm26",
        "outputId": "09ee2fec-b9d1-47c8-b368-eb4028c77917"
      },
      "source": [
        "a[5]"
      ],
      "execution_count": 5,
      "outputs": [
        {
          "output_type": "execute_result",
          "data": {
            "application/vnd.google.colaboratory.intrinsic+json": {
              "type": "string"
            },
            "text/plain": [
              "'n'"
            ]
          },
          "metadata": {
            "tags": []
          },
          "execution_count": 5
        }
      ]
    },
    {
      "cell_type": "code",
      "metadata": {
        "id": "amdvsWpgPrnQ"
      },
      "source": [
        "#indexing ---> Lists"
      ],
      "execution_count": 6,
      "outputs": []
    },
    {
      "cell_type": "code",
      "metadata": {
        "id": "0pROHQC_PvuB"
      },
      "source": [
        "l1=['india','usa','china','delhi','mumbai','chennai']"
      ],
      "execution_count": 7,
      "outputs": []
    },
    {
      "cell_type": "code",
      "metadata": {
        "colab": {
          "base_uri": "https://localhost:8080/",
          "height": 35
        },
        "id": "-X4NJN7SP1Hs",
        "outputId": "cd8ccf3e-a814-4d5a-a12e-d668434cd64f"
      },
      "source": [
        "l1[2]"
      ],
      "execution_count": 8,
      "outputs": [
        {
          "output_type": "execute_result",
          "data": {
            "application/vnd.google.colaboratory.intrinsic+json": {
              "type": "string"
            },
            "text/plain": [
              "'china'"
            ]
          },
          "metadata": {
            "tags": []
          },
          "execution_count": 8
        }
      ]
    },
    {
      "cell_type": "code",
      "metadata": {
        "colab": {
          "base_uri": "https://localhost:8080/",
          "height": 35
        },
        "id": "B2Gva0I2P9i8",
        "outputId": "61d21a9c-47b9-4028-cb04-275301ac05f8"
      },
      "source": [
        "l1[-4]"
      ],
      "execution_count": 9,
      "outputs": [
        {
          "output_type": "execute_result",
          "data": {
            "application/vnd.google.colaboratory.intrinsic+json": {
              "type": "string"
            },
            "text/plain": [
              "'china'"
            ]
          },
          "metadata": {
            "tags": []
          },
          "execution_count": 9
        }
      ]
    },
    {
      "cell_type": "code",
      "metadata": {
        "colab": {
          "base_uri": "https://localhost:8080/",
          "height": 35
        },
        "id": "JEMVTCe3P_G0",
        "outputId": "dae94566-6cbe-448f-d8d9-8ea5c2959289"
      },
      "source": [
        "l1[5]"
      ],
      "execution_count": 11,
      "outputs": [
        {
          "output_type": "execute_result",
          "data": {
            "application/vnd.google.colaboratory.intrinsic+json": {
              "type": "string"
            },
            "text/plain": [
              "'chennai'"
            ]
          },
          "metadata": {
            "tags": []
          },
          "execution_count": 11
        }
      ]
    },
    {
      "cell_type": "code",
      "metadata": {
        "id": "hPleZEIDQC_M"
      },
      "source": [
        "#Slicing ---> Strings"
      ],
      "execution_count": 12,
      "outputs": []
    },
    {
      "cell_type": "code",
      "metadata": {
        "id": "Lnu_1H02QOxt"
      },
      "source": [
        "a='Indian Ocean'"
      ],
      "execution_count": 13,
      "outputs": []
    },
    {
      "cell_type": "code",
      "metadata": {
        "colab": {
          "base_uri": "https://localhost:8080/",
          "height": 35
        },
        "id": "QfEeEtOkQRU3",
        "outputId": "f8d311b9-09e7-4253-f169-bf3058c2cc1b"
      },
      "source": [
        "a[0:6]"
      ],
      "execution_count": 14,
      "outputs": [
        {
          "output_type": "execute_result",
          "data": {
            "application/vnd.google.colaboratory.intrinsic+json": {
              "type": "string"
            },
            "text/plain": [
              "'Indian'"
            ]
          },
          "metadata": {
            "tags": []
          },
          "execution_count": 14
        }
      ]
    },
    {
      "cell_type": "code",
      "metadata": {
        "colab": {
          "base_uri": "https://localhost:8080/",
          "height": 35
        },
        "id": "v52So2fyQXhe",
        "outputId": "43cf1208-712c-48ca-8bb8-e8c157bfc089"
      },
      "source": [
        "a[-12:-6]"
      ],
      "execution_count": 15,
      "outputs": [
        {
          "output_type": "execute_result",
          "data": {
            "application/vnd.google.colaboratory.intrinsic+json": {
              "type": "string"
            },
            "text/plain": [
              "'Indian'"
            ]
          },
          "metadata": {
            "tags": []
          },
          "execution_count": 15
        }
      ]
    },
    {
      "cell_type": "code",
      "metadata": {
        "colab": {
          "base_uri": "https://localhost:8080/",
          "height": 35
        },
        "id": "CgrKriF7QZhp",
        "outputId": "0c7c108f-eaf1-478e-d905-ce35755a343e"
      },
      "source": [
        "a[:]"
      ],
      "execution_count": 16,
      "outputs": [
        {
          "output_type": "execute_result",
          "data": {
            "application/vnd.google.colaboratory.intrinsic+json": {
              "type": "string"
            },
            "text/plain": [
              "'Indian Ocean'"
            ]
          },
          "metadata": {
            "tags": []
          },
          "execution_count": 16
        }
      ]
    },
    {
      "cell_type": "code",
      "metadata": {
        "colab": {
          "base_uri": "https://localhost:8080/",
          "height": 35
        },
        "id": "2j_45DtXQayt",
        "outputId": "7f92045e-744e-4b6f-d2e4-29f59fa8162f"
      },
      "source": [
        "a[-8:]"
      ],
      "execution_count": 17,
      "outputs": [
        {
          "output_type": "execute_result",
          "data": {
            "application/vnd.google.colaboratory.intrinsic+json": {
              "type": "string"
            },
            "text/plain": [
              "'an Ocean'"
            ]
          },
          "metadata": {
            "tags": []
          },
          "execution_count": 17
        }
      ]
    },
    {
      "cell_type": "code",
      "metadata": {
        "colab": {
          "base_uri": "https://localhost:8080/",
          "height": 35
        },
        "id": "bmO8LfmDQdQf",
        "outputId": "a07c65e0-03fb-4667-8499-6f7b1c6bd7fc"
      },
      "source": [
        "a[:7]"
      ],
      "execution_count": 19,
      "outputs": [
        {
          "output_type": "execute_result",
          "data": {
            "application/vnd.google.colaboratory.intrinsic+json": {
              "type": "string"
            },
            "text/plain": [
              "'Indian '"
            ]
          },
          "metadata": {
            "tags": []
          },
          "execution_count": 19
        }
      ]
    },
    {
      "cell_type": "code",
      "metadata": {
        "id": "sov-TfJ3Qgad"
      },
      "source": [
        "#Slicing ---> Lists"
      ],
      "execution_count": 20,
      "outputs": []
    },
    {
      "cell_type": "code",
      "metadata": {
        "colab": {
          "base_uri": "https://localhost:8080/"
        },
        "id": "oTxV6YR4QoA4",
        "outputId": "c83a270e-a195-4f3d-bfdc-62537384845d"
      },
      "source": [
        "print(l1)"
      ],
      "execution_count": 21,
      "outputs": [
        {
          "output_type": "stream",
          "text": [
            "['india', 'usa', 'china', 'delhi', 'mumbai', 'chennai']\n"
          ],
          "name": "stdout"
        }
      ]
    },
    {
      "cell_type": "code",
      "metadata": {
        "colab": {
          "base_uri": "https://localhost:8080/"
        },
        "id": "P9MTnZL0Qo55",
        "outputId": "303f7be0-0390-4235-a0b3-8ded2031c085"
      },
      "source": [
        "l1[1:4]"
      ],
      "execution_count": 22,
      "outputs": [
        {
          "output_type": "execute_result",
          "data": {
            "text/plain": [
              "['usa', 'china', 'delhi']"
            ]
          },
          "metadata": {
            "tags": []
          },
          "execution_count": 22
        }
      ]
    },
    {
      "cell_type": "code",
      "metadata": {
        "colab": {
          "base_uri": "https://localhost:8080/"
        },
        "id": "a4Ox3kajQwG6",
        "outputId": "b2466eb5-efd9-4e01-87a1-83049abb7c39"
      },
      "source": [
        "l1[:-4]"
      ],
      "execution_count": 23,
      "outputs": [
        {
          "output_type": "execute_result",
          "data": {
            "text/plain": [
              "['india', 'usa']"
            ]
          },
          "metadata": {
            "tags": []
          },
          "execution_count": 23
        }
      ]
    },
    {
      "cell_type": "code",
      "metadata": {
        "colab": {
          "base_uri": "https://localhost:8080/"
        },
        "id": "9r6Xtbp-QzFp",
        "outputId": "02712f8c-96c8-461f-e055-d0826d42e3ac"
      },
      "source": [
        "l1[3:]"
      ],
      "execution_count": 24,
      "outputs": [
        {
          "output_type": "execute_result",
          "data": {
            "text/plain": [
              "['delhi', 'mumbai', 'chennai']"
            ]
          },
          "metadata": {
            "tags": []
          },
          "execution_count": 24
        }
      ]
    },
    {
      "cell_type": "code",
      "metadata": {
        "colab": {
          "base_uri": "https://localhost:8080/"
        },
        "id": "X_pTQAKSQ6Ei",
        "outputId": "813d39d7-1fd8-401a-d0e7-a45b5c6f7dfd"
      },
      "source": [
        "l1[-3:-6:-1]"
      ],
      "execution_count": 26,
      "outputs": [
        {
          "output_type": "execute_result",
          "data": {
            "text/plain": [
              "['delhi', 'china', 'usa']"
            ]
          },
          "metadata": {
            "tags": []
          },
          "execution_count": 26
        }
      ]
    },
    {
      "cell_type": "markdown",
      "metadata": {
        "id": "YEioYN7ARhi3"
      },
      "source": [
        "Nested Lists : List inside a list"
      ]
    },
    {
      "cell_type": "code",
      "metadata": {
        "colab": {
          "base_uri": "https://localhost:8080/"
        },
        "id": "7gz7V7klRSFs",
        "outputId": "0b9a244d-d415-4bd4-9560-5724af2a769b"
      },
      "source": [
        "print(l1)"
      ],
      "execution_count": 27,
      "outputs": [
        {
          "output_type": "stream",
          "text": [
            "['india', 'usa', 'china', 'delhi', 'mumbai', 'chennai']\n"
          ],
          "name": "stdout"
        }
      ]
    },
    {
      "cell_type": "code",
      "metadata": {
        "id": "NNh8O3zoRpv_"
      },
      "source": [
        "l2=['india','usa','china',['delhi','new york','shanghai']]"
      ],
      "execution_count": 28,
      "outputs": []
    },
    {
      "cell_type": "code",
      "metadata": {
        "colab": {
          "base_uri": "https://localhost:8080/",
          "height": 35
        },
        "id": "8LelJ3QuR14D",
        "outputId": "ebc5ea62-8bca-4b1a-bb65-f80bf39fc733"
      },
      "source": [
        "l2[3][0]"
      ],
      "execution_count": 29,
      "outputs": [
        {
          "output_type": "execute_result",
          "data": {
            "application/vnd.google.colaboratory.intrinsic+json": {
              "type": "string"
            },
            "text/plain": [
              "'delhi'"
            ]
          },
          "metadata": {
            "tags": []
          },
          "execution_count": 29
        }
      ]
    },
    {
      "cell_type": "code",
      "metadata": {
        "colab": {
          "base_uri": "https://localhost:8080/",
          "height": 35
        },
        "id": "F8kmQHqsTubP",
        "outputId": "26aa6530-9e0f-47a9-86f0-a597c65c7e67"
      },
      "source": [
        "l2[-1][-3]"
      ],
      "execution_count": 30,
      "outputs": [
        {
          "output_type": "execute_result",
          "data": {
            "application/vnd.google.colaboratory.intrinsic+json": {
              "type": "string"
            },
            "text/plain": [
              "'delhi'"
            ]
          },
          "metadata": {
            "tags": []
          },
          "execution_count": 30
        }
      ]
    },
    {
      "cell_type": "code",
      "metadata": {
        "colab": {
          "base_uri": "https://localhost:8080/"
        },
        "id": "rSbOmUbSTzd5",
        "outputId": "11687364-718a-4100-f5b5-d2b335773770"
      },
      "source": [
        "l2[3][0:2]"
      ],
      "execution_count": 31,
      "outputs": [
        {
          "output_type": "execute_result",
          "data": {
            "text/plain": [
              "['delhi', 'new york']"
            ]
          },
          "metadata": {
            "tags": []
          },
          "execution_count": 31
        }
      ]
    },
    {
      "cell_type": "code",
      "metadata": {
        "colab": {
          "base_uri": "https://localhost:8080/"
        },
        "id": "D3ti3adUT5PH",
        "outputId": "cfccd86e-5993-4f96-a207-f8844e08b0ea"
      },
      "source": [
        "print(l2)"
      ],
      "execution_count": 32,
      "outputs": [
        {
          "output_type": "stream",
          "text": [
            "['india', 'usa', 'china', ['delhi', 'new york', 'shanghai']]\n"
          ],
          "name": "stdout"
        }
      ]
    },
    {
      "cell_type": "code",
      "metadata": {
        "id": "UnrkQwcMT9C4"
      },
      "source": [
        "#['newyork','shanghai','china','usa']"
      ],
      "execution_count": 33,
      "outputs": []
    },
    {
      "cell_type": "code",
      "metadata": {
        "id": "ZRAASHbmV9BA"
      },
      "source": [
        "a=l2[3][1: ]"
      ],
      "execution_count": 42,
      "outputs": []
    },
    {
      "cell_type": "code",
      "metadata": {
        "colab": {
          "base_uri": "https://localhost:8080/"
        },
        "id": "JtISDGb8YAJ3",
        "outputId": "e0758028-1c71-4620-aac9-f80b09ec4f81"
      },
      "source": [
        "a"
      ],
      "execution_count": 54,
      "outputs": [
        {
          "output_type": "execute_result",
          "data": {
            "text/plain": [
              "['new york', 'shanghai']"
            ]
          },
          "metadata": {
            "tags": []
          },
          "execution_count": 54
        }
      ]
    },
    {
      "cell_type": "code",
      "metadata": {
        "id": "StnxxISqWpBn"
      },
      "source": [
        "b=l2[-2:-4:-1]"
      ],
      "execution_count": 52,
      "outputs": []
    },
    {
      "cell_type": "code",
      "metadata": {
        "colab": {
          "base_uri": "https://localhost:8080/"
        },
        "id": "ItwjWQofXJhP",
        "outputId": "fc10a982-9194-4ea4-d432-24b56f2e5bae"
      },
      "source": [
        "b"
      ],
      "execution_count": 53,
      "outputs": [
        {
          "output_type": "execute_result",
          "data": {
            "text/plain": [
              "['china', 'usa']"
            ]
          },
          "metadata": {
            "tags": []
          },
          "execution_count": 53
        }
      ]
    },
    {
      "cell_type": "code",
      "metadata": {
        "colab": {
          "base_uri": "https://localhost:8080/"
        },
        "id": "9cc4uVnMWsBS",
        "outputId": "2b01bf23-1ce5-4a6a-fa10-ca171785d606"
      },
      "source": [
        "print(a+b)"
      ],
      "execution_count": 55,
      "outputs": [
        {
          "output_type": "stream",
          "text": [
            "['new york', 'shanghai', 'china', 'usa']\n"
          ],
          "name": "stdout"
        }
      ]
    },
    {
      "cell_type": "markdown",
      "metadata": {
        "id": "qEhC3WasYXxn"
      },
      "source": [
        "Data Structures:\n",
        "\n",
        "1. Dictionary\n",
        "\n",
        "2. Tuples\n",
        "\n",
        "3. Sets"
      ]
    },
    {
      "cell_type": "code",
      "metadata": {
        "id": "ICyyhqDWXDbX"
      },
      "source": [
        "#dictionary"
      ],
      "execution_count": 56,
      "outputs": []
    },
    {
      "cell_type": "code",
      "metadata": {
        "id": "Ly1fvviQYmhx"
      },
      "source": [
        "receipt={'coke':100,'cake':450,'chips':50}"
      ],
      "execution_count": 57,
      "outputs": []
    },
    {
      "cell_type": "code",
      "metadata": {
        "colab": {
          "base_uri": "https://localhost:8080/"
        },
        "id": "mTL_ObfhadRM",
        "outputId": "ec82f36a-cdae-47ed-ce04-264d0a03df2b"
      },
      "source": [
        "print(receipt)"
      ],
      "execution_count": 58,
      "outputs": [
        {
          "output_type": "stream",
          "text": [
            "{'coke': 100, 'cake': 450, 'chips': 50}\n"
          ],
          "name": "stdout"
        }
      ]
    },
    {
      "cell_type": "code",
      "metadata": {
        "colab": {
          "base_uri": "https://localhost:8080/"
        },
        "id": "oYdo2uTXajzW",
        "outputId": "5a812ed6-c108-4f4e-9f3a-3654f79daae3"
      },
      "source": [
        "type(receipt)"
      ],
      "execution_count": 59,
      "outputs": [
        {
          "output_type": "execute_result",
          "data": {
            "text/plain": [
              "dict"
            ]
          },
          "metadata": {
            "tags": []
          },
          "execution_count": 59
        }
      ]
    },
    {
      "cell_type": "code",
      "metadata": {
        "id": "A_1d71PKambq"
      },
      "source": [
        "#adding new element in the dict\n",
        "receipt['packet of pens']=50"
      ],
      "execution_count": 60,
      "outputs": []
    },
    {
      "cell_type": "code",
      "metadata": {
        "colab": {
          "base_uri": "https://localhost:8080/"
        },
        "id": "9s3iHn77a8mG",
        "outputId": "56162aed-4e6a-4d35-ef4c-c9f52c0423b6"
      },
      "source": [
        "print(receipt)"
      ],
      "execution_count": 61,
      "outputs": [
        {
          "output_type": "stream",
          "text": [
            "{'coke': 100, 'cake': 450, 'chips': 50, 'packet of pens': 50}\n"
          ],
          "name": "stdout"
        }
      ]
    },
    {
      "cell_type": "code",
      "metadata": {
        "colab": {
          "base_uri": "https://localhost:8080/"
        },
        "id": "q_LBSf0Ka-Qi",
        "outputId": "0b4dab5f-2144-4cd5-99bc-7798eca724fb"
      },
      "source": [
        "#remove element from the dict\n",
        "receipt.pop('chips')"
      ],
      "execution_count": 62,
      "outputs": [
        {
          "output_type": "execute_result",
          "data": {
            "text/plain": [
              "50"
            ]
          },
          "metadata": {
            "tags": []
          },
          "execution_count": 62
        }
      ]
    },
    {
      "cell_type": "code",
      "metadata": {
        "colab": {
          "base_uri": "https://localhost:8080/"
        },
        "id": "2m6wKvLXbTnh",
        "outputId": "e6a71eaf-e846-4541-ff00-74719ce2163e"
      },
      "source": [
        "print(receipt)"
      ],
      "execution_count": 63,
      "outputs": [
        {
          "output_type": "stream",
          "text": [
            "{'coke': 100, 'cake': 450, 'packet of pens': 50}\n"
          ],
          "name": "stdout"
        }
      ]
    },
    {
      "cell_type": "code",
      "metadata": {
        "id": "Q4_7xTzSbWd4"
      },
      "source": [
        "#slicing is not supported\n",
        "#for fetching one value at a time, we need to use name of the key and not the index value"
      ],
      "execution_count": 65,
      "outputs": []
    },
    {
      "cell_type": "code",
      "metadata": {
        "colab": {
          "base_uri": "https://localhost:8080/"
        },
        "id": "YMpcUMhobqRw",
        "outputId": "6a241742-a77c-4764-c285-059eee3071e8"
      },
      "source": [
        "receipt['cake'] #cake is name of key"
      ],
      "execution_count": 67,
      "outputs": [
        {
          "output_type": "execute_result",
          "data": {
            "text/plain": [
              "450"
            ]
          },
          "metadata": {
            "tags": []
          },
          "execution_count": 67
        }
      ]
    },
    {
      "cell_type": "code",
      "metadata": {
        "id": "-BYZN_xwbyTk"
      },
      "source": [
        "#merge 2 lists into one dictionary\n",
        "l1=['name','salary','city','age'] #holds all the keys for the dict\n",
        "l2=['bob','35000','NY',27] #holds all the values for the dict"
      ],
      "execution_count": 68,
      "outputs": []
    },
    {
      "cell_type": "code",
      "metadata": {
        "id": "Qz1EeQFFcRXF"
      },
      "source": [
        "data=dict(zip(l1,l2)) #zip merges two lists into the format of one single dict"
      ],
      "execution_count": 71,
      "outputs": []
    },
    {
      "cell_type": "code",
      "metadata": {
        "colab": {
          "base_uri": "https://localhost:8080/"
        },
        "id": "K2odzYEacVW0",
        "outputId": "5b178376-3619-43e8-a278-54a2afa4f8af"
      },
      "source": [
        "print(data)"
      ],
      "execution_count": 72,
      "outputs": [
        {
          "output_type": "stream",
          "text": [
            "{'name': 'bob', 'salary': '35000', 'city': 'NY', 'age': 27}\n"
          ],
          "name": "stdout"
        }
      ]
    },
    {
      "cell_type": "code",
      "metadata": {
        "id": "3HpSuQfccWdb"
      },
      "source": [
        "#add a new pair -->'job':'developer'\n",
        "#remove city:NY pair\n",
        "#fetch age of Bob"
      ],
      "execution_count": 73,
      "outputs": []
    },
    {
      "cell_type": "code",
      "metadata": {
        "id": "UgRayFQ2dyt1"
      },
      "source": [
        "data['job']='developer'"
      ],
      "execution_count": 75,
      "outputs": []
    },
    {
      "cell_type": "code",
      "metadata": {
        "colab": {
          "base_uri": "https://localhost:8080/",
          "height": 35
        },
        "id": "5LQDIXUYdyfC",
        "outputId": "901cfdfa-930d-46e5-e143-9ef6b9efe1d9"
      },
      "source": [
        "data.pop('city')"
      ],
      "execution_count": 76,
      "outputs": [
        {
          "output_type": "execute_result",
          "data": {
            "application/vnd.google.colaboratory.intrinsic+json": {
              "type": "string"
            },
            "text/plain": [
              "'NY'"
            ]
          },
          "metadata": {
            "tags": []
          },
          "execution_count": 76
        }
      ]
    },
    {
      "cell_type": "code",
      "metadata": {
        "colab": {
          "base_uri": "https://localhost:8080/"
        },
        "id": "_4cLZamIc6uV",
        "outputId": "cce3ebdf-ce18-409f-eaf5-cfa3cf05a2d0"
      },
      "source": [
        "data['age']"
      ],
      "execution_count": 74,
      "outputs": [
        {
          "output_type": "execute_result",
          "data": {
            "text/plain": [
              "27"
            ]
          },
          "metadata": {
            "tags": []
          },
          "execution_count": 74
        }
      ]
    },
    {
      "cell_type": "code",
      "metadata": {
        "colab": {
          "base_uri": "https://localhost:8080/"
        },
        "id": "FoxaCX0idvhL",
        "outputId": "0a01a1d4-1f0b-4283-c5fd-e6b9c70699f3"
      },
      "source": [
        "print(data)"
      ],
      "execution_count": 77,
      "outputs": [
        {
          "output_type": "stream",
          "text": [
            "{'name': 'bob', 'salary': '35000', 'age': 27, 'job': 'developer'}\n"
          ],
          "name": "stdout"
        }
      ]
    },
    {
      "cell_type": "code",
      "metadata": {
        "id": "SaMzI58Jd6Aj"
      },
      "source": [
        ""
      ],
      "execution_count": null,
      "outputs": []
    }
  ]
}