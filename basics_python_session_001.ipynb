{
  "nbformat": 4,
  "nbformat_minor": 0,
  "metadata": {
    "colab": {
      "name": "basics_python_session_001.ipynb",
      "provenance": []
    },
    "kernelspec": {
      "name": "python3",
      "display_name": "Python 3"
    },
    "language_info": {
      "name": "python"
    }
  },
  "cells": [
    {
      "cell_type": "markdown",
      "metadata": {
        "id": "NlB2qY0eLIRE"
      },
      "source": [
        "Datatypes"
      ]
    },
    {
      "cell_type": "code",
      "metadata": {
        "id": "FO6aRjt-LN3Z"
      },
      "source": [
        "a=15 \n",
        "b=25.45\n",
        "c='Bharat'\n",
        "d=['Bharat',45,89,29,45,87,43]"
      ],
      "execution_count": 1,
      "outputs": []
    },
    {
      "cell_type": "markdown",
      "metadata": {
        "id": "s59GkQlaLKhl"
      },
      "source": [
        "Built in functions"
      ]
    },
    {
      "cell_type": "code",
      "metadata": {
        "colab": {
          "base_uri": "https://localhost:8080/"
        },
        "id": "r38HATmvA63B",
        "outputId": "97ca71c8-9433-4d77-ff9a-d177f09901af"
      },
      "source": [
        "#print()\n",
        "print(a)"
      ],
      "execution_count": 2,
      "outputs": [
        {
          "output_type": "stream",
          "text": [
            "15\n"
          ],
          "name": "stdout"
        }
      ]
    },
    {
      "cell_type": "code",
      "metadata": {
        "colab": {
          "base_uri": "https://localhost:8080/"
        },
        "id": "Wotw7IuwLeEl",
        "outputId": "e7dd773d-c9bc-40b9-d532-9052985b5fce"
      },
      "source": [
        "print(b)"
      ],
      "execution_count": 3,
      "outputs": [
        {
          "output_type": "stream",
          "text": [
            "25.45\n"
          ],
          "name": "stdout"
        }
      ]
    },
    {
      "cell_type": "code",
      "metadata": {
        "colab": {
          "base_uri": "https://localhost:8080/"
        },
        "id": "0obQtuT_Lfp1",
        "outputId": "f95e7b7b-2d0f-424e-8e70-5be4c24afdbc"
      },
      "source": [
        "print(c)"
      ],
      "execution_count": 4,
      "outputs": [
        {
          "output_type": "stream",
          "text": [
            "Bharat\n"
          ],
          "name": "stdout"
        }
      ]
    },
    {
      "cell_type": "code",
      "metadata": {
        "colab": {
          "base_uri": "https://localhost:8080/"
        },
        "id": "GBn1Rt5QLiee",
        "outputId": "62795587-a42c-439e-9b22-1365abe1f3a9"
      },
      "source": [
        "print(d)"
      ],
      "execution_count": 5,
      "outputs": [
        {
          "output_type": "stream",
          "text": [
            "['Bharat', 45, 89, 29, 45, 87, 43]\n"
          ],
          "name": "stdout"
        }
      ]
    },
    {
      "cell_type": "code",
      "metadata": {
        "colab": {
          "base_uri": "https://localhost:8080/"
        },
        "id": "1jYVIlG0LlVo",
        "outputId": "20d7a7c0-8be6-4f40-f05f-246b79ff2288"
      },
      "source": [
        "#type()\n",
        "type(a)"
      ],
      "execution_count": 6,
      "outputs": [
        {
          "output_type": "execute_result",
          "data": {
            "text/plain": [
              "int"
            ]
          },
          "metadata": {
            "tags": []
          },
          "execution_count": 6
        }
      ]
    },
    {
      "cell_type": "code",
      "metadata": {
        "colab": {
          "base_uri": "https://localhost:8080/"
        },
        "id": "7gH1qXiyLqsX",
        "outputId": "efbe3e6f-ee55-4484-b08c-d1627edb8b7b"
      },
      "source": [
        "type(b)"
      ],
      "execution_count": 7,
      "outputs": [
        {
          "output_type": "execute_result",
          "data": {
            "text/plain": [
              "float"
            ]
          },
          "metadata": {
            "tags": []
          },
          "execution_count": 7
        }
      ]
    },
    {
      "cell_type": "code",
      "metadata": {
        "colab": {
          "base_uri": "https://localhost:8080/"
        },
        "id": "Nxxlhnf9LtOV",
        "outputId": "78189641-8996-43b3-fdf9-7ce016e6b719"
      },
      "source": [
        "type(c)"
      ],
      "execution_count": 8,
      "outputs": [
        {
          "output_type": "execute_result",
          "data": {
            "text/plain": [
              "str"
            ]
          },
          "metadata": {
            "tags": []
          },
          "execution_count": 8
        }
      ]
    },
    {
      "cell_type": "code",
      "metadata": {
        "colab": {
          "base_uri": "https://localhost:8080/"
        },
        "id": "Patr0iMGLvR_",
        "outputId": "d5c33e10-a441-4bf9-ae2d-270d98051867"
      },
      "source": [
        "type(d)"
      ],
      "execution_count": 9,
      "outputs": [
        {
          "output_type": "execute_result",
          "data": {
            "text/plain": [
              "list"
            ]
          },
          "metadata": {
            "tags": []
          },
          "execution_count": 9
        }
      ]
    },
    {
      "cell_type": "code",
      "metadata": {
        "id": "JfE4fP02L0XD"
      },
      "source": [
        "#how to run a code cell ---> ctrl+enter or shift+enter or play button"
      ],
      "execution_count": 10,
      "outputs": []
    },
    {
      "cell_type": "code",
      "metadata": {
        "colab": {
          "base_uri": "https://localhost:8080/"
        },
        "id": "FGChbokDMDt9",
        "outputId": "5f27a3b4-68cf-4472-d2e8-96a58a9ae35e"
      },
      "source": [
        "#input()\n",
        "name=input(\"enter your name\")"
      ],
      "execution_count": 12,
      "outputs": [
        {
          "output_type": "stream",
          "text": [
            "enter your nameaashutosh\n"
          ],
          "name": "stdout"
        }
      ]
    },
    {
      "cell_type": "code",
      "metadata": {
        "colab": {
          "base_uri": "https://localhost:8080/"
        },
        "id": "bsg8n87rMN0F",
        "outputId": "a33aabb8-1d2a-4f1c-e77c-f177115eb32c"
      },
      "source": [
        "print(name)"
      ],
      "execution_count": 13,
      "outputs": [
        {
          "output_type": "stream",
          "text": [
            "aashutosh\n"
          ],
          "name": "stdout"
        }
      ]
    },
    {
      "cell_type": "code",
      "metadata": {
        "colab": {
          "base_uri": "https://localhost:8080/"
        },
        "id": "-pJMwqdiMW5S",
        "outputId": "8d04dc23-d0aa-4b1a-9a13-e9db57a2d7a1"
      },
      "source": [
        "type(name)"
      ],
      "execution_count": 14,
      "outputs": [
        {
          "output_type": "execute_result",
          "data": {
            "text/plain": [
              "str"
            ]
          },
          "metadata": {
            "tags": []
          },
          "execution_count": 14
        }
      ]
    },
    {
      "cell_type": "code",
      "metadata": {
        "colab": {
          "base_uri": "https://localhost:8080/"
        },
        "id": "TG34X3hfMYsv",
        "outputId": "035dbe77-b532-4d3e-ec67-69718dbc6c49"
      },
      "source": [
        "uid=input(\"enter your email id\")"
      ],
      "execution_count": 15,
      "outputs": [
        {
          "output_type": "stream",
          "text": [
            "enter your email idaashutosh@gmail.com\n"
          ],
          "name": "stdout"
        }
      ]
    },
    {
      "cell_type": "code",
      "metadata": {
        "colab": {
          "base_uri": "https://localhost:8080/"
        },
        "id": "RhnZAwoMMetG",
        "outputId": "9b3a1e34-423f-4606-c3c4-eca503c59764"
      },
      "source": [
        "print(uid)"
      ],
      "execution_count": 16,
      "outputs": [
        {
          "output_type": "stream",
          "text": [
            "aashutosh@gmail.com\n"
          ],
          "name": "stdout"
        }
      ]
    },
    {
      "cell_type": "code",
      "metadata": {
        "colab": {
          "base_uri": "https://localhost:8080/"
        },
        "id": "-AmP4lpqMix6",
        "outputId": "df41a989-8bd7-4d21-bbce-0cf70f1dfe3b"
      },
      "source": [
        "type(uid)"
      ],
      "execution_count": 17,
      "outputs": [
        {
          "output_type": "execute_result",
          "data": {
            "text/plain": [
              "str"
            ]
          },
          "metadata": {
            "tags": []
          },
          "execution_count": 17
        }
      ]
    },
    {
      "cell_type": "code",
      "metadata": {
        "colab": {
          "base_uri": "https://localhost:8080/"
        },
        "id": "RmsfFGMgMk5b",
        "outputId": "2b1e6ad5-581f-46d2-954d-89a54ca3a73c"
      },
      "source": [
        "#Typecasting ---> restriction on the input function\n",
        "otp=int(input(\"enter your otp\"))"
      ],
      "execution_count": 23,
      "outputs": [
        {
          "output_type": "stream",
          "text": [
            "enter your otp1234\n"
          ],
          "name": "stdout"
        }
      ]
    },
    {
      "cell_type": "code",
      "metadata": {
        "colab": {
          "base_uri": "https://localhost:8080/"
        },
        "id": "0xD7MntxM673",
        "outputId": "269eef27-6dbd-418b-e41c-6d478ea1b86d"
      },
      "source": [
        "print(otp)"
      ],
      "execution_count": 24,
      "outputs": [
        {
          "output_type": "stream",
          "text": [
            "1234\n"
          ],
          "name": "stdout"
        }
      ]
    },
    {
      "cell_type": "code",
      "metadata": {
        "colab": {
          "base_uri": "https://localhost:8080/"
        },
        "id": "eqKwplPZM-kw",
        "outputId": "ddc38a61-3404-4648-edf6-d362c8cd13ef"
      },
      "source": [
        "type(otp)"
      ],
      "execution_count": 25,
      "outputs": [
        {
          "output_type": "execute_result",
          "data": {
            "text/plain": [
              "int"
            ]
          },
          "metadata": {
            "tags": []
          },
          "execution_count": 25
        }
      ]
    },
    {
      "cell_type": "code",
      "metadata": {
        "colab": {
          "base_uri": "https://localhost:8080/"
        },
        "id": "LFZzSLfDNbgb",
        "outputId": "c5452d00-11bd-4eb5-a1f6-f15bd9f43256"
      },
      "source": [
        "temp=float(input(\"enter temp of your city\"))"
      ],
      "execution_count": 29,
      "outputs": [
        {
          "output_type": "stream",
          "text": [
            "enter temp of your city35\n"
          ],
          "name": "stdout"
        }
      ]
    },
    {
      "cell_type": "code",
      "metadata": {
        "colab": {
          "base_uri": "https://localhost:8080/"
        },
        "id": "WAtkKFeDNtQe",
        "outputId": "3563f04e-6740-4d9b-d753-c697f47c6e7f"
      },
      "source": [
        "print(temp)"
      ],
      "execution_count": 30,
      "outputs": [
        {
          "output_type": "stream",
          "text": [
            "35.0\n"
          ],
          "name": "stdout"
        }
      ]
    },
    {
      "cell_type": "code",
      "metadata": {
        "colab": {
          "base_uri": "https://localhost:8080/"
        },
        "id": "fKiGzUVNOEPr",
        "outputId": "a4d3f7ed-5ae1-41e6-b23b-e33d25e0334c"
      },
      "source": [
        "#eval()\n",
        "\n",
        "#creating your own calculator\n",
        "expression=input(\"enter your expression\")\n",
        "\n",
        "result=eval(expression)\n",
        "\n",
        "print(result)\n",
        "\n",
        "type(result)"
      ],
      "execution_count": 34,
      "outputs": [
        {
          "output_type": "stream",
          "text": [
            "enter your expression723-64\n",
            "659\n"
          ],
          "name": "stdout"
        },
        {
          "output_type": "execute_result",
          "data": {
            "text/plain": [
              "int"
            ]
          },
          "metadata": {
            "tags": []
          },
          "execution_count": 34
        }
      ]
    },
    {
      "cell_type": "markdown",
      "metadata": {
        "id": "JBqq1OUAPB-8"
      },
      "source": [
        "Mathematical operators"
      ]
    },
    {
      "cell_type": "code",
      "metadata": {
        "id": "uocoUuXSOquZ"
      },
      "source": [
        "a=10\n",
        "b=3"
      ],
      "execution_count": 35,
      "outputs": []
    },
    {
      "cell_type": "code",
      "metadata": {
        "colab": {
          "base_uri": "https://localhost:8080/"
        },
        "id": "n15ZqlG1R9mu",
        "outputId": "2ac9b772-cb51-4824-89c5-44a9edd60982"
      },
      "source": [
        "print(a+b)"
      ],
      "execution_count": 36,
      "outputs": [
        {
          "output_type": "stream",
          "text": [
            "13\n"
          ],
          "name": "stdout"
        }
      ]
    },
    {
      "cell_type": "code",
      "metadata": {
        "colab": {
          "base_uri": "https://localhost:8080/"
        },
        "id": "pz_6U9FBR_jX",
        "outputId": "4fcdff9e-44ee-4f7c-9d14-fd0c64a6e415"
      },
      "source": [
        "print(a-b)"
      ],
      "execution_count": 37,
      "outputs": [
        {
          "output_type": "stream",
          "text": [
            "7\n"
          ],
          "name": "stdout"
        }
      ]
    },
    {
      "cell_type": "code",
      "metadata": {
        "colab": {
          "base_uri": "https://localhost:8080/"
        },
        "id": "WDWckY4BSB3G",
        "outputId": "04ca9277-e279-49c2-8545-631defab03e8"
      },
      "source": [
        "print(a*b)"
      ],
      "execution_count": 38,
      "outputs": [
        {
          "output_type": "stream",
          "text": [
            "30\n"
          ],
          "name": "stdout"
        }
      ]
    },
    {
      "cell_type": "code",
      "metadata": {
        "colab": {
          "base_uri": "https://localhost:8080/"
        },
        "id": "gp-NdwnxSDdu",
        "outputId": "f5876e36-170a-4609-bf6e-b2979b9e9c0e"
      },
      "source": [
        "print(a/b)"
      ],
      "execution_count": 39,
      "outputs": [
        {
          "output_type": "stream",
          "text": [
            "3.3333333333333335\n"
          ],
          "name": "stdout"
        }
      ]
    },
    {
      "cell_type": "code",
      "metadata": {
        "colab": {
          "base_uri": "https://localhost:8080/"
        },
        "id": "Y4hz5kICSFKZ",
        "outputId": "8dad9388-f5fe-469f-945e-fd8d24970516"
      },
      "source": [
        "print(a//b)"
      ],
      "execution_count": 40,
      "outputs": [
        {
          "output_type": "stream",
          "text": [
            "3\n"
          ],
          "name": "stdout"
        }
      ]
    },
    {
      "cell_type": "code",
      "metadata": {
        "colab": {
          "base_uri": "https://localhost:8080/"
        },
        "id": "ZL3kIlb4SG0L",
        "outputId": "b107b2d4-ecd4-48bb-ffe0-6e9b09507209"
      },
      "source": [
        "print(a**b)"
      ],
      "execution_count": 41,
      "outputs": [
        {
          "output_type": "stream",
          "text": [
            "1000\n"
          ],
          "name": "stdout"
        }
      ]
    },
    {
      "cell_type": "code",
      "metadata": {
        "colab": {
          "base_uri": "https://localhost:8080/"
        },
        "id": "QaJ4-hRwSMS_",
        "outputId": "eac962e8-0cb9-403d-b1f1-cff7044c528e"
      },
      "source": [
        "print(a%b)"
      ],
      "execution_count": 42,
      "outputs": [
        {
          "output_type": "stream",
          "text": [
            "1\n"
          ],
          "name": "stdout"
        }
      ]
    },
    {
      "cell_type": "markdown",
      "metadata": {
        "id": "zckG8AoWSTEL"
      },
      "source": [
        "Operations on Strings and Lists\n",
        "\n",
        "1. Concatination\n",
        "\n",
        "2. Indexing\n",
        "\n",
        "3. Slicing"
      ]
    },
    {
      "cell_type": "code",
      "metadata": {
        "colab": {
          "base_uri": "https://localhost:8080/"
        },
        "id": "3E_k2vBPSOXS",
        "outputId": "cd889ed5-4fd6-4be0-d5f6-58e0ec6c0035"
      },
      "source": [
        "#concatination ---> Strings\n",
        "a='mobile '\n",
        "b='phone'\n",
        "print(a+b)"
      ],
      "execution_count": 44,
      "outputs": [
        {
          "output_type": "stream",
          "text": [
            "mobile phone\n"
          ],
          "name": "stdout"
        }
      ]
    },
    {
      "cell_type": "code",
      "metadata": {
        "colab": {
          "base_uri": "https://localhost:8080/"
        },
        "id": "43F-nD1tTTW_",
        "outputId": "29b4c374-5d8d-4379-bcca-50358cf0cd7e"
      },
      "source": [
        "p='hello'\n",
        "name=input(\"enter name\")\n",
        "q='how are you?'"
      ],
      "execution_count": 49,
      "outputs": [
        {
          "output_type": "stream",
          "text": [
            "enter namejackie\n"
          ],
          "name": "stdout"
        }
      ]
    },
    {
      "cell_type": "code",
      "metadata": {
        "colab": {
          "base_uri": "https://localhost:8080/"
        },
        "id": "OKcSZDvkTqFM",
        "outputId": "3dc62b87-8498-448d-91f6-bae369624fad"
      },
      "source": [
        "print(p + \" \"+ name + \" \" + q)"
      ],
      "execution_count": 50,
      "outputs": [
        {
          "output_type": "stream",
          "text": [
            "hello jackie how are you?\n"
          ],
          "name": "stdout"
        }
      ]
    },
    {
      "cell_type": "code",
      "metadata": {
        "id": "4WTLcHRiTwWE"
      },
      "source": [
        "#concatination ---> Lists\n",
        "l1=['india','china','usa']\n",
        "l2=['bhutan','bangaladesh','tibet']"
      ],
      "execution_count": 51,
      "outputs": []
    },
    {
      "cell_type": "code",
      "metadata": {
        "colab": {
          "base_uri": "https://localhost:8080/"
        },
        "id": "y-BqwE3DUNXB",
        "outputId": "a1299423-4f4c-42b5-fce3-54b9303e414e"
      },
      "source": [
        "print(l1+l2)"
      ],
      "execution_count": 52,
      "outputs": [
        {
          "output_type": "stream",
          "text": [
            "['india', 'china', 'usa', 'bhutan', 'bangaladesh', 'tibet']\n"
          ],
          "name": "stdout"
        }
      ]
    },
    {
      "cell_type": "code",
      "metadata": {
        "id": "QOYwSN0SUOhc"
      },
      "source": [
        ""
      ],
      "execution_count": null,
      "outputs": []
    }
  ]
}